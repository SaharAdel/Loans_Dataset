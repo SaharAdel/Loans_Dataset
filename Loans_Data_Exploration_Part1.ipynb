{
 "cells": [
  {
   "cell_type": "markdown",
   "metadata": {},
   "source": [
    "# Loans Data Exploration\n",
    "**Welcome** to the dataset exploration project! The project will explore `Loans dataset` contains 113,937 loans since 2005/2014 with 81 variables on each loan, including loan amount, current loan status, borrower income, borrower occupation, and many others.\n",
    "\n",
    "## Table of Contents\n",
    "<ul>\n",
    "<li><a href=\"#pre\">Preliminary Wrangling</a></li>\n",
    "<li><a href=\"#uni\">Univariate Exploration</a></li>\n",
    "<li><a href=\"#bi\">Bivariate Exploration</a></li>\n",
    "<li><a href=\"#multi\">Multivariate Exploration</a></li>\n",
    "<li><a href=\"#con\">Conclusion</a></li>\n",
    "</ul> "
   ]
  },
  {
   "cell_type": "code",
   "execution_count": 1,
   "metadata": {},
   "outputs": [],
   "source": [
    "# import packages\n",
    "import pandas as pd\n",
    "import numpy as np\n",
    "import matplotlib.pyplot as plt\n",
    "import seaborn as sb\n",
    "%matplotlib inline"
   ]
  },
  {
   "cell_type": "code",
   "execution_count": 2,
   "metadata": {},
   "outputs": [],
   "source": [
    "# load dataset\n",
    "df = pd.read_csv('prosperLoanData.csv')"
   ]
  },
  {
   "cell_type": "code",
   "execution_count": 3,
   "metadata": {},
   "outputs": [
    {
     "data": {
      "text/html": [
       "<div>\n",
       "<style scoped>\n",
       "    .dataframe tbody tr th:only-of-type {\n",
       "        vertical-align: middle;\n",
       "    }\n",
       "\n",
       "    .dataframe tbody tr th {\n",
       "        vertical-align: top;\n",
       "    }\n",
       "\n",
       "    .dataframe thead th {\n",
       "        text-align: right;\n",
       "    }\n",
       "</style>\n",
       "<table border=\"1\" class=\"dataframe\">\n",
       "  <thead>\n",
       "    <tr style=\"text-align: right;\">\n",
       "      <th></th>\n",
       "      <th>ListingKey</th>\n",
       "      <th>ListingNumber</th>\n",
       "      <th>ListingCreationDate</th>\n",
       "      <th>CreditGrade</th>\n",
       "      <th>Term</th>\n",
       "      <th>LoanStatus</th>\n",
       "      <th>ClosedDate</th>\n",
       "      <th>BorrowerAPR</th>\n",
       "      <th>BorrowerRate</th>\n",
       "      <th>LenderYield</th>\n",
       "      <th>...</th>\n",
       "      <th>LP_ServiceFees</th>\n",
       "      <th>LP_CollectionFees</th>\n",
       "      <th>LP_GrossPrincipalLoss</th>\n",
       "      <th>LP_NetPrincipalLoss</th>\n",
       "      <th>LP_NonPrincipalRecoverypayments</th>\n",
       "      <th>PercentFunded</th>\n",
       "      <th>Recommendations</th>\n",
       "      <th>InvestmentFromFriendsCount</th>\n",
       "      <th>InvestmentFromFriendsAmount</th>\n",
       "      <th>Investors</th>\n",
       "    </tr>\n",
       "  </thead>\n",
       "  <tbody>\n",
       "    <tr>\n",
       "      <th>0</th>\n",
       "      <td>1021339766868145413AB3B</td>\n",
       "      <td>193129</td>\n",
       "      <td>2007-08-26 19:09:29.263000000</td>\n",
       "      <td>C</td>\n",
       "      <td>36</td>\n",
       "      <td>Completed</td>\n",
       "      <td>2009-08-14 00:00:00</td>\n",
       "      <td>0.16516</td>\n",
       "      <td>0.1580</td>\n",
       "      <td>0.1380</td>\n",
       "      <td>...</td>\n",
       "      <td>-133.18</td>\n",
       "      <td>0.0</td>\n",
       "      <td>0.0</td>\n",
       "      <td>0.0</td>\n",
       "      <td>0.0</td>\n",
       "      <td>1.0</td>\n",
       "      <td>0</td>\n",
       "      <td>0</td>\n",
       "      <td>0.0</td>\n",
       "      <td>258</td>\n",
       "    </tr>\n",
       "    <tr>\n",
       "      <th>1</th>\n",
       "      <td>10273602499503308B223C1</td>\n",
       "      <td>1209647</td>\n",
       "      <td>2014-02-27 08:28:07.900000000</td>\n",
       "      <td>NaN</td>\n",
       "      <td>36</td>\n",
       "      <td>Current</td>\n",
       "      <td>NaN</td>\n",
       "      <td>0.12016</td>\n",
       "      <td>0.0920</td>\n",
       "      <td>0.0820</td>\n",
       "      <td>...</td>\n",
       "      <td>0.00</td>\n",
       "      <td>0.0</td>\n",
       "      <td>0.0</td>\n",
       "      <td>0.0</td>\n",
       "      <td>0.0</td>\n",
       "      <td>1.0</td>\n",
       "      <td>0</td>\n",
       "      <td>0</td>\n",
       "      <td>0.0</td>\n",
       "      <td>1</td>\n",
       "    </tr>\n",
       "    <tr>\n",
       "      <th>2</th>\n",
       "      <td>0EE9337825851032864889A</td>\n",
       "      <td>81716</td>\n",
       "      <td>2007-01-05 15:00:47.090000000</td>\n",
       "      <td>HR</td>\n",
       "      <td>36</td>\n",
       "      <td>Completed</td>\n",
       "      <td>2009-12-17 00:00:00</td>\n",
       "      <td>0.28269</td>\n",
       "      <td>0.2750</td>\n",
       "      <td>0.2400</td>\n",
       "      <td>...</td>\n",
       "      <td>-24.20</td>\n",
       "      <td>0.0</td>\n",
       "      <td>0.0</td>\n",
       "      <td>0.0</td>\n",
       "      <td>0.0</td>\n",
       "      <td>1.0</td>\n",
       "      <td>0</td>\n",
       "      <td>0</td>\n",
       "      <td>0.0</td>\n",
       "      <td>41</td>\n",
       "    </tr>\n",
       "    <tr>\n",
       "      <th>3</th>\n",
       "      <td>0EF5356002482715299901A</td>\n",
       "      <td>658116</td>\n",
       "      <td>2012-10-22 11:02:35.010000000</td>\n",
       "      <td>NaN</td>\n",
       "      <td>36</td>\n",
       "      <td>Current</td>\n",
       "      <td>NaN</td>\n",
       "      <td>0.12528</td>\n",
       "      <td>0.0974</td>\n",
       "      <td>0.0874</td>\n",
       "      <td>...</td>\n",
       "      <td>-108.01</td>\n",
       "      <td>0.0</td>\n",
       "      <td>0.0</td>\n",
       "      <td>0.0</td>\n",
       "      <td>0.0</td>\n",
       "      <td>1.0</td>\n",
       "      <td>0</td>\n",
       "      <td>0</td>\n",
       "      <td>0.0</td>\n",
       "      <td>158</td>\n",
       "    </tr>\n",
       "    <tr>\n",
       "      <th>4</th>\n",
       "      <td>0F023589499656230C5E3E2</td>\n",
       "      <td>909464</td>\n",
       "      <td>2013-09-14 18:38:39.097000000</td>\n",
       "      <td>NaN</td>\n",
       "      <td>36</td>\n",
       "      <td>Current</td>\n",
       "      <td>NaN</td>\n",
       "      <td>0.24614</td>\n",
       "      <td>0.2085</td>\n",
       "      <td>0.1985</td>\n",
       "      <td>...</td>\n",
       "      <td>-60.27</td>\n",
       "      <td>0.0</td>\n",
       "      <td>0.0</td>\n",
       "      <td>0.0</td>\n",
       "      <td>0.0</td>\n",
       "      <td>1.0</td>\n",
       "      <td>0</td>\n",
       "      <td>0</td>\n",
       "      <td>0.0</td>\n",
       "      <td>20</td>\n",
       "    </tr>\n",
       "  </tbody>\n",
       "</table>\n",
       "<p>5 rows × 81 columns</p>\n",
       "</div>"
      ],
      "text/plain": [
       "                ListingKey  ListingNumber            ListingCreationDate  \\\n",
       "0  1021339766868145413AB3B         193129  2007-08-26 19:09:29.263000000   \n",
       "1  10273602499503308B223C1        1209647  2014-02-27 08:28:07.900000000   \n",
       "2  0EE9337825851032864889A          81716  2007-01-05 15:00:47.090000000   \n",
       "3  0EF5356002482715299901A         658116  2012-10-22 11:02:35.010000000   \n",
       "4  0F023589499656230C5E3E2         909464  2013-09-14 18:38:39.097000000   \n",
       "\n",
       "  CreditGrade  Term LoanStatus           ClosedDate  BorrowerAPR  \\\n",
       "0           C    36  Completed  2009-08-14 00:00:00      0.16516   \n",
       "1         NaN    36    Current                  NaN      0.12016   \n",
       "2          HR    36  Completed  2009-12-17 00:00:00      0.28269   \n",
       "3         NaN    36    Current                  NaN      0.12528   \n",
       "4         NaN    36    Current                  NaN      0.24614   \n",
       "\n",
       "   BorrowerRate  LenderYield  ...  LP_ServiceFees  LP_CollectionFees  \\\n",
       "0        0.1580       0.1380  ...         -133.18                0.0   \n",
       "1        0.0920       0.0820  ...            0.00                0.0   \n",
       "2        0.2750       0.2400  ...          -24.20                0.0   \n",
       "3        0.0974       0.0874  ...         -108.01                0.0   \n",
       "4        0.2085       0.1985  ...          -60.27                0.0   \n",
       "\n",
       "   LP_GrossPrincipalLoss  LP_NetPrincipalLoss LP_NonPrincipalRecoverypayments  \\\n",
       "0                    0.0                  0.0                             0.0   \n",
       "1                    0.0                  0.0                             0.0   \n",
       "2                    0.0                  0.0                             0.0   \n",
       "3                    0.0                  0.0                             0.0   \n",
       "4                    0.0                  0.0                             0.0   \n",
       "\n",
       "   PercentFunded  Recommendations InvestmentFromFriendsCount  \\\n",
       "0            1.0                0                          0   \n",
       "1            1.0                0                          0   \n",
       "2            1.0                0                          0   \n",
       "3            1.0                0                          0   \n",
       "4            1.0                0                          0   \n",
       "\n",
       "  InvestmentFromFriendsAmount Investors  \n",
       "0                         0.0       258  \n",
       "1                         0.0         1  \n",
       "2                         0.0        41  \n",
       "3                         0.0       158  \n",
       "4                         0.0        20  \n",
       "\n",
       "[5 rows x 81 columns]"
      ]
     },
     "execution_count": 3,
     "metadata": {},
     "output_type": "execute_result"
    }
   ],
   "source": [
    "df.head()"
   ]
  },
  {
   "cell_type": "code",
   "execution_count": 4,
   "metadata": {},
   "outputs": [
    {
     "data": {
      "text/plain": [
       "(113937, 81)"
      ]
     },
     "execution_count": 4,
     "metadata": {},
     "output_type": "execute_result"
    }
   ],
   "source": [
    "df.shape"
   ]
  },
  {
   "cell_type": "code",
   "execution_count": 5,
   "metadata": {},
   "outputs": [
    {
     "name": "stdout",
     "output_type": "stream",
     "text": [
      "<class 'pandas.core.frame.DataFrame'>\n",
      "RangeIndex: 113937 entries, 0 to 113936\n",
      "Data columns (total 81 columns):\n",
      " #   Column                               Non-Null Count   Dtype  \n",
      "---  ------                               --------------   -----  \n",
      " 0   ListingKey                           113937 non-null  object \n",
      " 1   ListingNumber                        113937 non-null  int64  \n",
      " 2   ListingCreationDate                  113937 non-null  object \n",
      " 3   CreditGrade                          28953 non-null   object \n",
      " 4   Term                                 113937 non-null  int64  \n",
      " 5   LoanStatus                           113937 non-null  object \n",
      " 6   ClosedDate                           55089 non-null   object \n",
      " 7   BorrowerAPR                          113912 non-null  float64\n",
      " 8   BorrowerRate                         113937 non-null  float64\n",
      " 9   LenderYield                          113937 non-null  float64\n",
      " 10  EstimatedEffectiveYield              84853 non-null   float64\n",
      " 11  EstimatedLoss                        84853 non-null   float64\n",
      " 12  EstimatedReturn                      84853 non-null   float64\n",
      " 13  ProsperRating (numeric)              84853 non-null   float64\n",
      " 14  ProsperRating (Alpha)                84853 non-null   object \n",
      " 15  ProsperScore                         84853 non-null   float64\n",
      " 16  ListingCategory (numeric)            113937 non-null  int64  \n",
      " 17  BorrowerState                        108422 non-null  object \n",
      " 18  Occupation                           110349 non-null  object \n",
      " 19  EmploymentStatus                     111682 non-null  object \n",
      " 20  EmploymentStatusDuration             106312 non-null  float64\n",
      " 21  IsBorrowerHomeowner                  113937 non-null  bool   \n",
      " 22  CurrentlyInGroup                     113937 non-null  bool   \n",
      " 23  GroupKey                             13341 non-null   object \n",
      " 24  DateCreditPulled                     113937 non-null  object \n",
      " 25  CreditScoreRangeLower                113346 non-null  float64\n",
      " 26  CreditScoreRangeUpper                113346 non-null  float64\n",
      " 27  FirstRecordedCreditLine              113240 non-null  object \n",
      " 28  CurrentCreditLines                   106333 non-null  float64\n",
      " 29  OpenCreditLines                      106333 non-null  float64\n",
      " 30  TotalCreditLinespast7years           113240 non-null  float64\n",
      " 31  OpenRevolvingAccounts                113937 non-null  int64  \n",
      " 32  OpenRevolvingMonthlyPayment          113937 non-null  float64\n",
      " 33  InquiriesLast6Months                 113240 non-null  float64\n",
      " 34  TotalInquiries                       112778 non-null  float64\n",
      " 35  CurrentDelinquencies                 113240 non-null  float64\n",
      " 36  AmountDelinquent                     106315 non-null  float64\n",
      " 37  DelinquenciesLast7Years              112947 non-null  float64\n",
      " 38  PublicRecordsLast10Years             113240 non-null  float64\n",
      " 39  PublicRecordsLast12Months            106333 non-null  float64\n",
      " 40  RevolvingCreditBalance               106333 non-null  float64\n",
      " 41  BankcardUtilization                  106333 non-null  float64\n",
      " 42  AvailableBankcardCredit              106393 non-null  float64\n",
      " 43  TotalTrades                          106393 non-null  float64\n",
      " 44  TradesNeverDelinquent (percentage)   106393 non-null  float64\n",
      " 45  TradesOpenedLast6Months              106393 non-null  float64\n",
      " 46  DebtToIncomeRatio                    105383 non-null  float64\n",
      " 47  IncomeRange                          113937 non-null  object \n",
      " 48  IncomeVerifiable                     113937 non-null  bool   \n",
      " 49  StatedMonthlyIncome                  113937 non-null  float64\n",
      " 50  LoanKey                              113937 non-null  object \n",
      " 51  TotalProsperLoans                    22085 non-null   float64\n",
      " 52  TotalProsperPaymentsBilled           22085 non-null   float64\n",
      " 53  OnTimeProsperPayments                22085 non-null   float64\n",
      " 54  ProsperPaymentsLessThanOneMonthLate  22085 non-null   float64\n",
      " 55  ProsperPaymentsOneMonthPlusLate      22085 non-null   float64\n",
      " 56  ProsperPrincipalBorrowed             22085 non-null   float64\n",
      " 57  ProsperPrincipalOutstanding          22085 non-null   float64\n",
      " 58  ScorexChangeAtTimeOfListing          18928 non-null   float64\n",
      " 59  LoanCurrentDaysDelinquent            113937 non-null  int64  \n",
      " 60  LoanFirstDefaultedCycleNumber        16952 non-null   float64\n",
      " 61  LoanMonthsSinceOrigination           113937 non-null  int64  \n",
      " 62  LoanNumber                           113937 non-null  int64  \n",
      " 63  LoanOriginalAmount                   113937 non-null  int64  \n",
      " 64  LoanOriginationDate                  113937 non-null  object \n",
      " 65  LoanOriginationQuarter               113937 non-null  object \n",
      " 66  MemberKey                            113937 non-null  object \n",
      " 67  MonthlyLoanPayment                   113937 non-null  float64\n",
      " 68  LP_CustomerPayments                  113937 non-null  float64\n",
      " 69  LP_CustomerPrincipalPayments         113937 non-null  float64\n",
      " 70  LP_InterestandFees                   113937 non-null  float64\n",
      " 71  LP_ServiceFees                       113937 non-null  float64\n",
      " 72  LP_CollectionFees                    113937 non-null  float64\n",
      " 73  LP_GrossPrincipalLoss                113937 non-null  float64\n",
      " 74  LP_NetPrincipalLoss                  113937 non-null  float64\n",
      " 75  LP_NonPrincipalRecoverypayments      113937 non-null  float64\n",
      " 76  PercentFunded                        113937 non-null  float64\n",
      " 77  Recommendations                      113937 non-null  int64  \n",
      " 78  InvestmentFromFriendsCount           113937 non-null  int64  \n",
      " 79  InvestmentFromFriendsAmount          113937 non-null  float64\n",
      " 80  Investors                            113937 non-null  int64  \n",
      "dtypes: bool(3), float64(50), int64(11), object(17)\n",
      "memory usage: 68.1+ MB\n"
     ]
    }
   ],
   "source": [
    "df.info()"
   ]
  },
  {
   "cell_type": "markdown",
   "metadata": {},
   "source": [
    "<a id='pre'></a>\n",
    "## Preliminary Wrangling"
   ]
  },
  {
   "cell_type": "markdown",
   "metadata": {},
   "source": [
    "The section contains selecting the interest columns from the dataset and doing simple wrangling."
   ]
  },
  {
   "cell_type": "code",
   "execution_count": 6,
   "metadata": {},
   "outputs": [],
   "source": [
    "df_loan = df[['ListingNumber','ListingCreationDate','Term','LoanStatus','ClosedDate','ListingCategory (numeric)','BorrowerState',\n",
    "              'Occupation','EmploymentStatus','EmploymentStatusDuration','IsBorrowerHomeowner','IncomeRange','IncomeVerifiable',\n",
    "              'StatedMonthlyIncome','TotalProsperLoans','TotalProsperPaymentsBilled','OnTimeProsperPayments',\n",
    "              'ProsperPaymentsLessThanOneMonthLate','ProsperPaymentsOneMonthPlusLate', 'LoanOriginalAmount']].copy()"
   ]
  },
  {
   "cell_type": "code",
   "execution_count": 7,
   "metadata": {},
   "outputs": [
    {
     "name": "stdout",
     "output_type": "stream",
     "text": [
      "<class 'pandas.core.frame.DataFrame'>\n",
      "RangeIndex: 113937 entries, 0 to 113936\n",
      "Data columns (total 20 columns):\n",
      " #   Column                               Non-Null Count   Dtype  \n",
      "---  ------                               --------------   -----  \n",
      " 0   ListingNumber                        113937 non-null  int64  \n",
      " 1   ListingCreationDate                  113937 non-null  object \n",
      " 2   Term                                 113937 non-null  int64  \n",
      " 3   LoanStatus                           113937 non-null  object \n",
      " 4   ClosedDate                           55089 non-null   object \n",
      " 5   ListingCategory (numeric)            113937 non-null  int64  \n",
      " 6   BorrowerState                        108422 non-null  object \n",
      " 7   Occupation                           110349 non-null  object \n",
      " 8   EmploymentStatus                     111682 non-null  object \n",
      " 9   EmploymentStatusDuration             106312 non-null  float64\n",
      " 10  IsBorrowerHomeowner                  113937 non-null  bool   \n",
      " 11  IncomeRange                          113937 non-null  object \n",
      " 12  IncomeVerifiable                     113937 non-null  bool   \n",
      " 13  StatedMonthlyIncome                  113937 non-null  float64\n",
      " 14  TotalProsperLoans                    22085 non-null   float64\n",
      " 15  TotalProsperPaymentsBilled           22085 non-null   float64\n",
      " 16  OnTimeProsperPayments                22085 non-null   float64\n",
      " 17  ProsperPaymentsLessThanOneMonthLate  22085 non-null   float64\n",
      " 18  ProsperPaymentsOneMonthPlusLate      22085 non-null   float64\n",
      " 19  LoanOriginalAmount                   113937 non-null  int64  \n",
      "dtypes: bool(2), float64(7), int64(4), object(7)\n",
      "memory usage: 15.9+ MB\n"
     ]
    }
   ],
   "source": [
    "df_loan.info()"
   ]
  },
  {
   "cell_type": "markdown",
   "metadata": {},
   "source": [
    ">rename category col."
   ]
  },
  {
   "cell_type": "code",
   "execution_count": 8,
   "metadata": {},
   "outputs": [],
   "source": [
    "# rename column\n",
    "df_loan.rename(columns = {'ListingCategory (numeric)':'ListingCategory'}, inplace = True) "
   ]
  },
  {
   "cell_type": "code",
   "execution_count": 9,
   "metadata": {},
   "outputs": [
    {
     "data": {
      "text/plain": [
       "count                            113937\n",
       "unique                           113064\n",
       "top       2013-10-02 17:20:16.550000000\n",
       "freq                                  6\n",
       "Name: ListingCreationDate, dtype: object"
      ]
     },
     "execution_count": 9,
     "metadata": {},
     "output_type": "execute_result"
    }
   ],
   "source": [
    "# take a look about duration loans dataset\n",
    "df_loan.ListingCreationDate.describe()"
   ]
  },
  {
   "cell_type": "code",
   "execution_count": 10,
   "metadata": {},
   "outputs": [
    {
     "data": {
      "text/html": [
       "<div>\n",
       "<style scoped>\n",
       "    .dataframe tbody tr th:only-of-type {\n",
       "        vertical-align: middle;\n",
       "    }\n",
       "\n",
       "    .dataframe tbody tr th {\n",
       "        vertical-align: top;\n",
       "    }\n",
       "\n",
       "    .dataframe thead th {\n",
       "        text-align: right;\n",
       "    }\n",
       "</style>\n",
       "<table border=\"1\" class=\"dataframe\">\n",
       "  <thead>\n",
       "    <tr style=\"text-align: right;\">\n",
       "      <th></th>\n",
       "      <th>ListingNumber</th>\n",
       "      <th>ListingCreationDate</th>\n",
       "      <th>Term</th>\n",
       "      <th>LoanStatus</th>\n",
       "      <th>ClosedDate</th>\n",
       "      <th>ListingCategory</th>\n",
       "      <th>BorrowerState</th>\n",
       "      <th>Occupation</th>\n",
       "      <th>EmploymentStatus</th>\n",
       "      <th>EmploymentStatusDuration</th>\n",
       "      <th>IsBorrowerHomeowner</th>\n",
       "      <th>IncomeRange</th>\n",
       "      <th>IncomeVerifiable</th>\n",
       "      <th>StatedMonthlyIncome</th>\n",
       "      <th>TotalProsperLoans</th>\n",
       "      <th>TotalProsperPaymentsBilled</th>\n",
       "      <th>OnTimeProsperPayments</th>\n",
       "      <th>ProsperPaymentsLessThanOneMonthLate</th>\n",
       "      <th>ProsperPaymentsOneMonthPlusLate</th>\n",
       "      <th>LoanOriginalAmount</th>\n",
       "    </tr>\n",
       "  </thead>\n",
       "  <tbody>\n",
       "    <tr>\n",
       "      <th>87888</th>\n",
       "      <td>632613</td>\n",
       "      <td>2012-09-03 11:55:14.637000000</td>\n",
       "      <td>36</td>\n",
       "      <td>Current</td>\n",
       "      <td>NaN</td>\n",
       "      <td>1</td>\n",
       "      <td>NJ</td>\n",
       "      <td>Clerical</td>\n",
       "      <td>Employed</td>\n",
       "      <td>13.0</td>\n",
       "      <td>True</td>\n",
       "      <td>$75,000-99,999</td>\n",
       "      <td>True</td>\n",
       "      <td>6666.666667</td>\n",
       "      <td>NaN</td>\n",
       "      <td>NaN</td>\n",
       "      <td>NaN</td>\n",
       "      <td>NaN</td>\n",
       "      <td>NaN</td>\n",
       "      <td>15000</td>\n",
       "    </tr>\n",
       "    <tr>\n",
       "      <th>113673</th>\n",
       "      <td>613622</td>\n",
       "      <td>2012-07-18 09:36:17.583000000</td>\n",
       "      <td>60</td>\n",
       "      <td>Current</td>\n",
       "      <td>NaN</td>\n",
       "      <td>1</td>\n",
       "      <td>TX</td>\n",
       "      <td>Professional</td>\n",
       "      <td>Employed</td>\n",
       "      <td>113.0</td>\n",
       "      <td>False</td>\n",
       "      <td>$50,000-74,999</td>\n",
       "      <td>True</td>\n",
       "      <td>5000.000000</td>\n",
       "      <td>NaN</td>\n",
       "      <td>NaN</td>\n",
       "      <td>NaN</td>\n",
       "      <td>NaN</td>\n",
       "      <td>NaN</td>\n",
       "      <td>8000</td>\n",
       "    </tr>\n",
       "    <tr>\n",
       "      <th>38531</th>\n",
       "      <td>417923</td>\n",
       "      <td>2009-07-23 20:06:31.500000000</td>\n",
       "      <td>36</td>\n",
       "      <td>Completed</td>\n",
       "      <td>2011-12-07 00:00:00</td>\n",
       "      <td>1</td>\n",
       "      <td>CA</td>\n",
       "      <td>Sales - Commission</td>\n",
       "      <td>Full-time</td>\n",
       "      <td>20.0</td>\n",
       "      <td>False</td>\n",
       "      <td>$25,000-49,999</td>\n",
       "      <td>True</td>\n",
       "      <td>2333.333333</td>\n",
       "      <td>1.0</td>\n",
       "      <td>14.0</td>\n",
       "      <td>14.0</td>\n",
       "      <td>0.0</td>\n",
       "      <td>0.0</td>\n",
       "      <td>2100</td>\n",
       "    </tr>\n",
       "    <tr>\n",
       "      <th>45876</th>\n",
       "      <td>990877</td>\n",
       "      <td>2013-11-12 17:54:16.297000000</td>\n",
       "      <td>36</td>\n",
       "      <td>Current</td>\n",
       "      <td>NaN</td>\n",
       "      <td>1</td>\n",
       "      <td>MI</td>\n",
       "      <td>Computer Programmer</td>\n",
       "      <td>Employed</td>\n",
       "      <td>44.0</td>\n",
       "      <td>False</td>\n",
       "      <td>$75,000-99,999</td>\n",
       "      <td>True</td>\n",
       "      <td>6694.583333</td>\n",
       "      <td>1.0</td>\n",
       "      <td>2.0</td>\n",
       "      <td>2.0</td>\n",
       "      <td>0.0</td>\n",
       "      <td>0.0</td>\n",
       "      <td>15000</td>\n",
       "    </tr>\n",
       "    <tr>\n",
       "      <th>2523</th>\n",
       "      <td>1212905</td>\n",
       "      <td>2014-02-27 13:57:18.370000000</td>\n",
       "      <td>36</td>\n",
       "      <td>Current</td>\n",
       "      <td>NaN</td>\n",
       "      <td>1</td>\n",
       "      <td>IL</td>\n",
       "      <td>Other</td>\n",
       "      <td>Other</td>\n",
       "      <td>461.0</td>\n",
       "      <td>False</td>\n",
       "      <td>$1-24,999</td>\n",
       "      <td>True</td>\n",
       "      <td>1476.333333</td>\n",
       "      <td>3.0</td>\n",
       "      <td>36.0</td>\n",
       "      <td>36.0</td>\n",
       "      <td>0.0</td>\n",
       "      <td>0.0</td>\n",
       "      <td>4000</td>\n",
       "    </tr>\n",
       "    <tr>\n",
       "      <th>54950</th>\n",
       "      <td>1165790</td>\n",
       "      <td>2014-01-26 15:58:43.463000000</td>\n",
       "      <td>36</td>\n",
       "      <td>Current</td>\n",
       "      <td>NaN</td>\n",
       "      <td>1</td>\n",
       "      <td>CO</td>\n",
       "      <td>Retail Management</td>\n",
       "      <td>Employed</td>\n",
       "      <td>20.0</td>\n",
       "      <td>False</td>\n",
       "      <td>$1-24,999</td>\n",
       "      <td>True</td>\n",
       "      <td>1833.333333</td>\n",
       "      <td>NaN</td>\n",
       "      <td>NaN</td>\n",
       "      <td>NaN</td>\n",
       "      <td>NaN</td>\n",
       "      <td>NaN</td>\n",
       "      <td>3000</td>\n",
       "    </tr>\n",
       "    <tr>\n",
       "      <th>96848</th>\n",
       "      <td>902720</td>\n",
       "      <td>2013-09-13 12:22:20.620000000</td>\n",
       "      <td>36</td>\n",
       "      <td>Current</td>\n",
       "      <td>NaN</td>\n",
       "      <td>1</td>\n",
       "      <td>MO</td>\n",
       "      <td>NaN</td>\n",
       "      <td>Other</td>\n",
       "      <td>62.0</td>\n",
       "      <td>True</td>\n",
       "      <td>$50,000-74,999</td>\n",
       "      <td>True</td>\n",
       "      <td>5250.000000</td>\n",
       "      <td>NaN</td>\n",
       "      <td>NaN</td>\n",
       "      <td>NaN</td>\n",
       "      <td>NaN</td>\n",
       "      <td>NaN</td>\n",
       "      <td>4000</td>\n",
       "    </tr>\n",
       "    <tr>\n",
       "      <th>82103</th>\n",
       "      <td>1135094</td>\n",
       "      <td>2014-01-15 11:43:00.200000000</td>\n",
       "      <td>36</td>\n",
       "      <td>Current</td>\n",
       "      <td>NaN</td>\n",
       "      <td>1</td>\n",
       "      <td>MT</td>\n",
       "      <td>Sales - Commission</td>\n",
       "      <td>Self-employed</td>\n",
       "      <td>43.0</td>\n",
       "      <td>False</td>\n",
       "      <td>$100,000+</td>\n",
       "      <td>False</td>\n",
       "      <td>10000.000000</td>\n",
       "      <td>NaN</td>\n",
       "      <td>NaN</td>\n",
       "      <td>NaN</td>\n",
       "      <td>NaN</td>\n",
       "      <td>NaN</td>\n",
       "      <td>12000</td>\n",
       "    </tr>\n",
       "  </tbody>\n",
       "</table>\n",
       "</div>"
      ],
      "text/plain": [
       "        ListingNumber            ListingCreationDate  Term LoanStatus  \\\n",
       "87888          632613  2012-09-03 11:55:14.637000000    36    Current   \n",
       "113673         613622  2012-07-18 09:36:17.583000000    60    Current   \n",
       "38531          417923  2009-07-23 20:06:31.500000000    36  Completed   \n",
       "45876          990877  2013-11-12 17:54:16.297000000    36    Current   \n",
       "2523          1212905  2014-02-27 13:57:18.370000000    36    Current   \n",
       "54950         1165790  2014-01-26 15:58:43.463000000    36    Current   \n",
       "96848          902720  2013-09-13 12:22:20.620000000    36    Current   \n",
       "82103         1135094  2014-01-15 11:43:00.200000000    36    Current   \n",
       "\n",
       "                 ClosedDate  ListingCategory BorrowerState  \\\n",
       "87888                   NaN                1            NJ   \n",
       "113673                  NaN                1            TX   \n",
       "38531   2011-12-07 00:00:00                1            CA   \n",
       "45876                   NaN                1            MI   \n",
       "2523                    NaN                1            IL   \n",
       "54950                   NaN                1            CO   \n",
       "96848                   NaN                1            MO   \n",
       "82103                   NaN                1            MT   \n",
       "\n",
       "                 Occupation EmploymentStatus  EmploymentStatusDuration  \\\n",
       "87888              Clerical         Employed                      13.0   \n",
       "113673         Professional         Employed                     113.0   \n",
       "38531    Sales - Commission        Full-time                      20.0   \n",
       "45876   Computer Programmer         Employed                      44.0   \n",
       "2523                  Other            Other                     461.0   \n",
       "54950     Retail Management         Employed                      20.0   \n",
       "96848                   NaN            Other                      62.0   \n",
       "82103    Sales - Commission    Self-employed                      43.0   \n",
       "\n",
       "        IsBorrowerHomeowner     IncomeRange  IncomeVerifiable  \\\n",
       "87888                  True  $75,000-99,999              True   \n",
       "113673                False  $50,000-74,999              True   \n",
       "38531                 False  $25,000-49,999              True   \n",
       "45876                 False  $75,000-99,999              True   \n",
       "2523                  False       $1-24,999              True   \n",
       "54950                 False       $1-24,999              True   \n",
       "96848                  True  $50,000-74,999              True   \n",
       "82103                 False       $100,000+             False   \n",
       "\n",
       "        StatedMonthlyIncome  TotalProsperLoans  TotalProsperPaymentsBilled  \\\n",
       "87888           6666.666667                NaN                         NaN   \n",
       "113673          5000.000000                NaN                         NaN   \n",
       "38531           2333.333333                1.0                        14.0   \n",
       "45876           6694.583333                1.0                         2.0   \n",
       "2523            1476.333333                3.0                        36.0   \n",
       "54950           1833.333333                NaN                         NaN   \n",
       "96848           5250.000000                NaN                         NaN   \n",
       "82103          10000.000000                NaN                         NaN   \n",
       "\n",
       "        OnTimeProsperPayments  ProsperPaymentsLessThanOneMonthLate  \\\n",
       "87888                     NaN                                  NaN   \n",
       "113673                    NaN                                  NaN   \n",
       "38531                    14.0                                  0.0   \n",
       "45876                     2.0                                  0.0   \n",
       "2523                     36.0                                  0.0   \n",
       "54950                     NaN                                  NaN   \n",
       "96848                     NaN                                  NaN   \n",
       "82103                     NaN                                  NaN   \n",
       "\n",
       "        ProsperPaymentsOneMonthPlusLate  LoanOriginalAmount  \n",
       "87888                               NaN               15000  \n",
       "113673                              NaN                8000  \n",
       "38531                               0.0                2100  \n",
       "45876                               0.0               15000  \n",
       "2523                                0.0                4000  \n",
       "54950                               NaN                3000  \n",
       "96848                               NaN                4000  \n",
       "82103                               NaN               12000  "
      ]
     },
     "execution_count": 10,
     "metadata": {},
     "output_type": "execute_result"
    }
   ],
   "source": [
    "# display sampling of values\n",
    "df_loan.sample(8)"
   ]
  },
  {
   "cell_type": "code",
   "execution_count": 11,
   "metadata": {},
   "outputs": [],
   "source": [
    "# convert to appropriate type\n",
    "df_loan.ListingCreationDate = pd.to_datetime(df_loan.ListingCreationDate)"
   ]
  },
  {
   "cell_type": "code",
   "execution_count": 12,
   "metadata": {},
   "outputs": [
    {
     "data": {
      "text/plain": [
       "871"
      ]
     },
     "execution_count": 12,
     "metadata": {},
     "output_type": "execute_result"
    }
   ],
   "source": [
    "# check if contains duplicate\n",
    "df_loan.duplicated().sum()"
   ]
  },
  {
   "cell_type": "code",
   "execution_count": 13,
   "metadata": {},
   "outputs": [],
   "source": [
    "# drop duplicates rows\n",
    "df_loan.drop_duplicates(inplace = True)"
   ]
  },
  {
   "cell_type": "code",
   "execution_count": 14,
   "metadata": {},
   "outputs": [
    {
     "data": {
      "text/plain": [
       "array(['Other', 'Professional', 'Skilled Labor', 'Executive',\n",
       "       'Sales - Retail', 'Laborer', 'Food Service', 'Fireman',\n",
       "       'Waiter/Waitress', 'Construction', 'Computer Programmer',\n",
       "       'Sales - Commission', 'Retail Management', 'Engineer - Mechanical',\n",
       "       'Military Enlisted', 'Clerical', nan, 'Teacher', 'Clergy',\n",
       "       'Accountant/CPA', 'Attorney', 'Nurse (RN)', 'Analyst',\n",
       "       \"Nurse's Aide\", 'Investor', 'Realtor', 'Flight Attendant',\n",
       "       'Nurse (LPN)', 'Military Officer', 'Food Service Management',\n",
       "       'Truck Driver', 'Administrative Assistant',\n",
       "       'Police Officer/Correction Officer', 'Social Worker',\n",
       "       'Tradesman - Mechanic', 'Medical Technician', 'Professor',\n",
       "       'Postal Service', 'Civil Service', 'Pharmacist',\n",
       "       'Tradesman - Electrician', 'Scientist', 'Dentist',\n",
       "       'Engineer - Electrical', 'Architect', 'Landscaping',\n",
       "       'Tradesman - Carpenter', 'Bus Driver', 'Tradesman - Plumber',\n",
       "       'Engineer - Chemical', 'Doctor', 'Chemist',\n",
       "       'Student - College Senior', 'Principal', \"Teacher's Aide\",\n",
       "       'Pilot - Private/Commercial', 'Religious', 'Homemaker',\n",
       "       'Student - College Graduate Student', 'Student - Technical School',\n",
       "       'Psychologist', 'Biologist', 'Student - College Sophomore',\n",
       "       'Judge', 'Student - College Junior', 'Car Dealer',\n",
       "       'Student - Community College', 'Student - College Freshman'],\n",
       "      dtype=object)"
      ]
     },
     "execution_count": 14,
     "metadata": {},
     "output_type": "execute_result"
    }
   ],
   "source": [
    "# display borrowers jobs\n",
    "df_loan.Occupation.unique()"
   ]
  },
  {
   "cell_type": "code",
   "execution_count": 15,
   "metadata": {
    "scrolled": true
   },
   "outputs": [
    {
     "data": {
      "text/html": [
       "<div>\n",
       "<style scoped>\n",
       "    .dataframe tbody tr th:only-of-type {\n",
       "        vertical-align: middle;\n",
       "    }\n",
       "\n",
       "    .dataframe tbody tr th {\n",
       "        vertical-align: top;\n",
       "    }\n",
       "\n",
       "    .dataframe thead th {\n",
       "        text-align: right;\n",
       "    }\n",
       "</style>\n",
       "<table border=\"1\" class=\"dataframe\">\n",
       "  <thead>\n",
       "    <tr style=\"text-align: right;\">\n",
       "      <th></th>\n",
       "      <th>IncomeRange</th>\n",
       "      <th>IncomeVerifiable</th>\n",
       "      <th>StatedMonthlyIncome</th>\n",
       "    </tr>\n",
       "  </thead>\n",
       "  <tbody>\n",
       "    <tr>\n",
       "      <th>0</th>\n",
       "      <td>$25,000-49,999</td>\n",
       "      <td>True</td>\n",
       "      <td>3083.333333</td>\n",
       "    </tr>\n",
       "    <tr>\n",
       "      <th>1</th>\n",
       "      <td>$50,000-74,999</td>\n",
       "      <td>True</td>\n",
       "      <td>6125.000000</td>\n",
       "    </tr>\n",
       "    <tr>\n",
       "      <th>2</th>\n",
       "      <td>Not displayed</td>\n",
       "      <td>True</td>\n",
       "      <td>2083.333333</td>\n",
       "    </tr>\n",
       "    <tr>\n",
       "      <th>3</th>\n",
       "      <td>$25,000-49,999</td>\n",
       "      <td>True</td>\n",
       "      <td>2875.000000</td>\n",
       "    </tr>\n",
       "    <tr>\n",
       "      <th>4</th>\n",
       "      <td>$100,000+</td>\n",
       "      <td>True</td>\n",
       "      <td>9583.333333</td>\n",
       "    </tr>\n",
       "    <tr>\n",
       "      <th>...</th>\n",
       "      <td>...</td>\n",
       "      <td>...</td>\n",
       "      <td>...</td>\n",
       "    </tr>\n",
       "    <tr>\n",
       "      <th>113932</th>\n",
       "      <td>$50,000-74,999</td>\n",
       "      <td>True</td>\n",
       "      <td>4333.333333</td>\n",
       "    </tr>\n",
       "    <tr>\n",
       "      <th>113933</th>\n",
       "      <td>$75,000-99,999</td>\n",
       "      <td>True</td>\n",
       "      <td>8041.666667</td>\n",
       "    </tr>\n",
       "    <tr>\n",
       "      <th>113934</th>\n",
       "      <td>$25,000-49,999</td>\n",
       "      <td>True</td>\n",
       "      <td>2875.000000</td>\n",
       "    </tr>\n",
       "    <tr>\n",
       "      <th>113935</th>\n",
       "      <td>$25,000-49,999</td>\n",
       "      <td>True</td>\n",
       "      <td>3875.000000</td>\n",
       "    </tr>\n",
       "    <tr>\n",
       "      <th>113936</th>\n",
       "      <td>$50,000-74,999</td>\n",
       "      <td>True</td>\n",
       "      <td>4583.333333</td>\n",
       "    </tr>\n",
       "  </tbody>\n",
       "</table>\n",
       "<p>113066 rows × 3 columns</p>\n",
       "</div>"
      ],
      "text/plain": [
       "           IncomeRange  IncomeVerifiable  StatedMonthlyIncome\n",
       "0       $25,000-49,999              True          3083.333333\n",
       "1       $50,000-74,999              True          6125.000000\n",
       "2        Not displayed              True          2083.333333\n",
       "3       $25,000-49,999              True          2875.000000\n",
       "4            $100,000+              True          9583.333333\n",
       "...                ...               ...                  ...\n",
       "113932  $50,000-74,999              True          4333.333333\n",
       "113933  $75,000-99,999              True          8041.666667\n",
       "113934  $25,000-49,999              True          2875.000000\n",
       "113935  $25,000-49,999              True          3875.000000\n",
       "113936  $50,000-74,999              True          4583.333333\n",
       "\n",
       "[113066 rows x 3 columns]"
      ]
     },
     "execution_count": 15,
     "metadata": {},
     "output_type": "execute_result"
    }
   ],
   "source": [
    "# take a look about income range and monthly paid\n",
    "df_loan.loc[:,['IncomeRange', 'IncomeVerifiable', 'StatedMonthlyIncome']]"
   ]
  },
  {
   "cell_type": "code",
   "execution_count": 16,
   "metadata": {},
   "outputs": [
    {
     "data": {
      "text/plain": [
       "ListingNumber                              0\n",
       "ListingCreationDate                        0\n",
       "Term                                       0\n",
       "LoanStatus                                 0\n",
       "ClosedDate                             57990\n",
       "ListingCategory                            0\n",
       "BorrowerState                           5515\n",
       "Occupation                              3529\n",
       "EmploymentStatus                        2255\n",
       "EmploymentStatusDuration                7625\n",
       "IsBorrowerHomeowner                        0\n",
       "IncomeRange                                0\n",
       "IncomeVerifiable                           0\n",
       "StatedMonthlyIncome                        0\n",
       "TotalProsperLoans                      91143\n",
       "TotalProsperPaymentsBilled             91143\n",
       "OnTimeProsperPayments                  91143\n",
       "ProsperPaymentsLessThanOneMonthLate    91143\n",
       "ProsperPaymentsOneMonthPlusLate        91143\n",
       "LoanOriginalAmount                         0\n",
       "dtype: int64"
      ]
     },
     "execution_count": 16,
     "metadata": {},
     "output_type": "execute_result"
    }
   ],
   "source": [
    "# check if contains null\n",
    "df_loan.isna().sum() # write this line or remove it?? "
   ]
  },
  {
   "cell_type": "markdown",
   "metadata": {},
   "source": [
    "> the last columns for they have prosper loans"
   ]
  },
  {
   "cell_type": "code",
   "execution_count": 17,
   "metadata": {},
   "outputs": [],
   "source": [
    "# create new dataset for borrower they have prosper loan\n",
    "df_prosloan = df_loan[['ListingNumber','TotalProsperLoans','TotalProsperPaymentsBilled','OnTimeProsperPayments',\n",
    "                      'ProsperPaymentsLessThanOneMonthLate','ProsperPaymentsOneMonthPlusLate']].copy()\n",
    "\n",
    "# drop col\n",
    "df_loan.drop(['TotalProsperLoans','TotalProsperPaymentsBilled','OnTimeProsperPayments',\n",
    "                      'ProsperPaymentsLessThanOneMonthLate','ProsperPaymentsOneMonthPlusLate'], axis=1, inplace=True)"
   ]
  },
  {
   "cell_type": "code",
   "execution_count": 18,
   "metadata": {},
   "outputs": [
    {
     "data": {
      "text/plain": [
       "array([nan,  1.,  3.,  2.,  4.,  6.,  5.,  8.,  7.,  0.])"
      ]
     },
     "execution_count": 18,
     "metadata": {},
     "output_type": "execute_result"
    }
   ],
   "source": [
    "# display how much a borrower have loans ???\n",
    "df_prosloan.TotalProsperLoans.unique()"
   ]
  },
  {
   "cell_type": "code",
   "execution_count": 19,
   "metadata": {},
   "outputs": [
    {
     "data": {
      "text/html": [
       "<div>\n",
       "<style scoped>\n",
       "    .dataframe tbody tr th:only-of-type {\n",
       "        vertical-align: middle;\n",
       "    }\n",
       "\n",
       "    .dataframe tbody tr th {\n",
       "        vertical-align: top;\n",
       "    }\n",
       "\n",
       "    .dataframe thead th {\n",
       "        text-align: right;\n",
       "    }\n",
       "</style>\n",
       "<table border=\"1\" class=\"dataframe\">\n",
       "  <thead>\n",
       "    <tr style=\"text-align: right;\">\n",
       "      <th></th>\n",
       "      <th>TotalProsperLoans</th>\n",
       "      <th>TotalProsperPaymentsBilled</th>\n",
       "      <th>OnTimeProsperPayments</th>\n",
       "      <th>ProsperPaymentsLessThanOneMonthLate</th>\n",
       "      <th>ProsperPaymentsOneMonthPlusLate</th>\n",
       "    </tr>\n",
       "  </thead>\n",
       "  <tbody>\n",
       "    <tr>\n",
       "      <th>343</th>\n",
       "      <td>2.0</td>\n",
       "      <td>36.0</td>\n",
       "      <td>27.0</td>\n",
       "      <td>9.0</td>\n",
       "      <td>0.0</td>\n",
       "    </tr>\n",
       "    <tr>\n",
       "      <th>476</th>\n",
       "      <td>2.0</td>\n",
       "      <td>65.0</td>\n",
       "      <td>61.0</td>\n",
       "      <td>4.0</td>\n",
       "      <td>0.0</td>\n",
       "    </tr>\n",
       "    <tr>\n",
       "      <th>551</th>\n",
       "      <td>2.0</td>\n",
       "      <td>50.0</td>\n",
       "      <td>48.0</td>\n",
       "      <td>2.0</td>\n",
       "      <td>0.0</td>\n",
       "    </tr>\n",
       "    <tr>\n",
       "      <th>601</th>\n",
       "      <td>2.0</td>\n",
       "      <td>20.0</td>\n",
       "      <td>18.0</td>\n",
       "      <td>2.0</td>\n",
       "      <td>0.0</td>\n",
       "    </tr>\n",
       "    <tr>\n",
       "      <th>603</th>\n",
       "      <td>2.0</td>\n",
       "      <td>51.0</td>\n",
       "      <td>50.0</td>\n",
       "      <td>1.0</td>\n",
       "      <td>0.0</td>\n",
       "    </tr>\n",
       "    <tr>\n",
       "      <th>...</th>\n",
       "      <td>...</td>\n",
       "      <td>...</td>\n",
       "      <td>...</td>\n",
       "      <td>...</td>\n",
       "      <td>...</td>\n",
       "    </tr>\n",
       "    <tr>\n",
       "      <th>113689</th>\n",
       "      <td>2.0</td>\n",
       "      <td>42.0</td>\n",
       "      <td>35.0</td>\n",
       "      <td>7.0</td>\n",
       "      <td>0.0</td>\n",
       "    </tr>\n",
       "    <tr>\n",
       "      <th>113754</th>\n",
       "      <td>2.0</td>\n",
       "      <td>57.0</td>\n",
       "      <td>56.0</td>\n",
       "      <td>1.0</td>\n",
       "      <td>0.0</td>\n",
       "    </tr>\n",
       "    <tr>\n",
       "      <th>113802</th>\n",
       "      <td>4.0</td>\n",
       "      <td>60.0</td>\n",
       "      <td>55.0</td>\n",
       "      <td>5.0</td>\n",
       "      <td>0.0</td>\n",
       "    </tr>\n",
       "    <tr>\n",
       "      <th>113813</th>\n",
       "      <td>3.0</td>\n",
       "      <td>64.0</td>\n",
       "      <td>48.0</td>\n",
       "      <td>12.0</td>\n",
       "      <td>4.0</td>\n",
       "    </tr>\n",
       "    <tr>\n",
       "      <th>113924</th>\n",
       "      <td>2.0</td>\n",
       "      <td>38.0</td>\n",
       "      <td>35.0</td>\n",
       "      <td>3.0</td>\n",
       "      <td>0.0</td>\n",
       "    </tr>\n",
       "  </tbody>\n",
       "</table>\n",
       "<p>1591 rows × 5 columns</p>\n",
       "</div>"
      ],
      "text/plain": [
       "        TotalProsperLoans  TotalProsperPaymentsBilled  OnTimeProsperPayments  \\\n",
       "343                   2.0                        36.0                   27.0   \n",
       "476                   2.0                        65.0                   61.0   \n",
       "551                   2.0                        50.0                   48.0   \n",
       "601                   2.0                        20.0                   18.0   \n",
       "603                   2.0                        51.0                   50.0   \n",
       "...                   ...                         ...                    ...   \n",
       "113689                2.0                        42.0                   35.0   \n",
       "113754                2.0                        57.0                   56.0   \n",
       "113802                4.0                        60.0                   55.0   \n",
       "113813                3.0                        64.0                   48.0   \n",
       "113924                2.0                        38.0                   35.0   \n",
       "\n",
       "        ProsperPaymentsLessThanOneMonthLate  ProsperPaymentsOneMonthPlusLate  \n",
       "343                                     9.0                              0.0  \n",
       "476                                     4.0                              0.0  \n",
       "551                                     2.0                              0.0  \n",
       "601                                     2.0                              0.0  \n",
       "603                                     1.0                              0.0  \n",
       "...                                     ...                              ...  \n",
       "113689                                  7.0                              0.0  \n",
       "113754                                  1.0                              0.0  \n",
       "113802                                  5.0                              0.0  \n",
       "113813                                 12.0                              4.0  \n",
       "113924                                  3.0                              0.0  \n",
       "\n",
       "[1591 rows x 5 columns]"
      ]
     },
     "execution_count": 19,
     "metadata": {},
     "output_type": "execute_result"
    }
   ],
   "source": [
    "# list of late paid from previous loans\n",
    "df_prosloan.loc[(df_prosloan.TotalProsperLoans > 1.0) & (df_prosloan.TotalProsperPaymentsBilled != df_prosloan.OnTimeProsperPayments),['TotalProsperLoans','TotalProsperPaymentsBilled','OnTimeProsperPayments','ProsperPaymentsLessThanOneMonthLate','ProsperPaymentsOneMonthPlusLate'] ]"
   ]
  },
  {
   "cell_type": "markdown",
   "metadata": {},
   "source": [
    "> 1600 cases have payment late, and may they causing risks."
   ]
  },
  {
   "cell_type": "markdown",
   "metadata": {},
   "source": [
    "**What is the structure of your dataset?** <br>\n",
    "The dataset contains 113,937 loans since 2005/2014 with 81 variables on each loan, including loan amount, current loan status, borrower income, borrower occupation, and many others. <br>\n",
    "It's contains qualititave varibles such as loan status, loan category, borrower state and occupation and others. Also, it's contains quantitave variables such as loan amount, term, borrower income and others.\n",
    "\n",
    "**What is/are the main feature(s) of interest in your dataset?** <br>\n",
    "I'm interesting to investigate what factors affect a loan’s outcome status.\n",
    "\n",
    "**What features in the dataset do you think will help support your investigation into your feature(s) of interest?** <br>\n",
    "I'll investigating about difference columns (borrower income, occupation, state, etc.) and then exploaring if they affect of the loan's status, if they, i'll sorted them odrinally.\n"
   ]
  },
  {
   "cell_type": "markdown",
   "metadata": {},
   "source": [
    "<a id='uni'></a>\n",
    "## Univariate Exploration"
   ]
  },
  {
   "cell_type": "markdown",
   "metadata": {},
   "source": [
    "The section contains univariate exploration of the dataset columns. Let's start with some qualitative variables followed by some quantitative variables ."
   ]
  },
  {
   "cell_type": "code",
   "execution_count": 20,
   "metadata": {},
   "outputs": [
    {
     "data": {
      "image/png": "[encoded data removed]",
      "text/plain": [
       "<Figure size 432x288 with 1 Axes>"
      ]
     },
     "metadata": {
      "needs_background": "light"
     },
     "output_type": "display_data"
    }
   ],
   "source": [
    "# display loan status\n",
    "base_color = sb.color_palette()[0]\n",
    "st_order = df_loan['LoanStatus'].value_counts().index\n",
    "sb.countplot(data = df_loan, y = 'LoanStatus', color = base_color, order = st_order);"
   ]
  },
  {
   "cell_type": "code",
   "execution_count": 21,
   "metadata": {},
   "outputs": [
    {
     "data": {
      "image/png": "[encoded data removed]",
      "text/plain": [
       "<Figure size 432x288 with 1 Axes>"
      ]
     },
     "metadata": {
      "needs_background": "light"
     },
     "output_type": "display_data"
    }
   ],
   "source": [
    "# sort loan category listing\n",
    "cat_order = df_loan['ListingCategory'].value_counts().index\n",
    "sb.countplot(data = df_loan, x = 'ListingCategory', color = base_color, order = cat_order);\n",
    "# change the figure size\n",
    "sb.set(rc={'figure.figsize':(15,10)});"
   ]
  },
  {
   "cell_type": "markdown",
   "metadata": {},
   "source": [
    "> The category of the listing that the borrower selected when posting their listing:<br> 0 - Not Available, 1 - Debt Consolidation, 2 - Home Improvement, 3 - Business, 4 - Personal Loan, 5 - Student Use, 6 - Auto, 7- Other, 8 - Baby&Adoption, 9 - Boat, 10 - Cosmetic Procedure, 11 - Engagement Ring, 12 - Green Loans, 13 - Household Expenses, 14 - Large Purchases, 15 - Medical/Dental, 16 - Motorcycle, 17 - RV, 18 - Taxes, 19 - Vacation, 20 - Wedding Loans"
   ]
  },
  {
   "cell_type": "code",
   "execution_count": 22,
   "metadata": {},
   "outputs": [
    {
     "data": {
      "image/png": "[encoded data removed]",
      "text/plain": [
       "<Figure size 1080x720 with 1 Axes>"
      ]
     },
     "metadata": {},
     "output_type": "display_data"
    }
   ],
   "source": [
    "# display the percentage of borrower state\n",
    "n_state = df_loan['BorrowerState'].value_counts().sum()\n",
    "state_order = df_loan['BorrowerState'].value_counts().index\n",
    "sb.countplot(data=df_loan, x='BorrowerState', color=base_color, order=state_order);\n",
    "\n",
    "max_state = df_loan['BorrowerState'].value_counts()\n",
    "\n",
    "# get the current tick locations and labels\n",
    "locs, labels = plt.xticks(rotation=90) \n",
    "\n",
    "# loop through each pair of locations and labels\n",
    "for loc, label in zip(locs, labels):\n",
    "\n",
    "    # get the text property for the label to get the correct count\n",
    "    count = max_state[label.get_text()]\n",
    "    pct_string = '{:d}%'.format(int(100*count/n_state))\n",
    "\n",
    "    # print the annotation just below the top of the bar\n",
    "    plt.text(loc, count+2, pct_string, ha = 'center', color = 'black')\n",
    "\n",
    "# change the figure size\n",
    "sb.set(rc={'figure.figsize':(15,10)});"
   ]
  },
  {
   "cell_type": "code",
   "execution_count": 23,
   "metadata": {},
   "outputs": [
    {
     "data": {
      "image/png": "[encoded data removed]",
      "text/plain": [
       "<Figure size 1080x720 with 1 Axes>"
      ]
     },
     "metadata": {},
     "output_type": "display_data"
    }
   ],
   "source": [
    "# display top borrower occupation\n",
    "oc_order = df_loan['Occupation'].value_counts().nlargest(15).index\n",
    "sb.countplot(data = df_loan, y = 'Occupation', color = base_color, order = oc_order);"
   ]
  },
  {
   "cell_type": "code",
   "execution_count": 24,
   "metadata": {},
   "outputs": [
    {
     "data": {
      "image/png": "[encoded data removed]",
      "text/plain": [
       "<Figure size 1080x720 with 1 Axes>"
      ]
     },
     "metadata": {},
     "output_type": "display_data"
    }
   ],
   "source": [
    "# is the borrower own a home?\n",
    "df_loan.IsBorrowerHomeowner.value_counts().plot(kind = 'pie', autopct= '%1.1f%%');"
   ]
  },
  {
   "cell_type": "code",
   "execution_count": 25,
   "metadata": {},
   "outputs": [
    {
     "data": {
      "image/png": "[encoded data removed]",
      "text/plain": [
       "<Figure size 1080x720 with 1 Axes>"
      ]
     },
     "metadata": {},
     "output_type": "display_data"
    }
   ],
   "source": [
    "# display loans amount\n",
    "plt.hist(data = df_loan, x = 'LoanOriginalAmount', bins = 30);"
   ]
  },
  {
   "cell_type": "markdown",
   "metadata": {},
   "source": [
    "> non-uniform distribution/ right skewed of data points in different bins??"
   ]
  },
  {
   "cell_type": "code",
   "execution_count": 26,
   "metadata": {},
   "outputs": [
    {
     "data": {
      "text/plain": [
       "count    113066.000000\n",
       "mean       8314.762307\n",
       "std        6237.007841\n",
       "min        1000.000000\n",
       "25%        4000.000000\n",
       "50%        6300.000000\n",
       "75%       12000.000000\n",
       "max       35000.000000\n",
       "Name: LoanOriginalAmount, dtype: float64"
      ]
     },
     "execution_count": 26,
     "metadata": {},
     "output_type": "execute_result"
    }
   ],
   "source": [
    "df_loan.LoanOriginalAmount.describe()"
   ]
  },
  {
   "cell_type": "markdown",
   "metadata": {},
   "source": [
    "**Discuss the distribution(s) of your variable(s) of interest. Were there any unusual points? Did you need to perform any transformations?** <br>\n",
    "The loan amount variable divided defualted into only ten bins that is too few to understand the distribution of the data, so I divided it to 20, 30 bins, respecivelly, to understand the ditribution. In both, the figure is right skewed distribution (positive).\n",
    "\n",
    "**Of the features you investigated, were there any unusual distributions? Did you perform any operations on the data to tidy, adjust, or change the form of the data? If so, why did you do this?** <br>\n",
    "After investigating the dataset and selecting the interset columns, there are some columns depending on previous loans for a borrower which is contains a huge of nan, regarding to not all borrowers have previous loans. So, for tidiness, I breaking these columns with the key id to a new dataset for borrower they have previous loan."
   ]
  },
  {
   "cell_type": "markdown",
   "metadata": {},
   "source": [
    "<a id='bi'></a>\n",
    "## Bivariate Exploration"
   ]
  },
  {
   "cell_type": "markdown",
   "metadata": {},
   "source": [
    "The section contains bivariate exploration of dataset to look the relationship and correlation between two variables. There are showing two cases, quantitative vs. quantitative variables useing scatter plot for exploring the relation between loan amount and borrower income. Additionally, quantitative vs. qualitative variables using violin plot for exploring the relation between borrower they are losing thier occupation before completing loan payments and loan status."
   ]
  },
  {
   "cell_type": "code",
   "execution_count": 27,
   "metadata": {},
   "outputs": [
    {
     "data": {
      "image/png": "[encoded data removed]",
      "text/plain": [
       "<Figure size 1080x720 with 1 Axes>"
      ]
     },
     "metadata": {},
     "output_type": "display_data"
    }
   ],
   "source": [
    "# relation between loan amount and borrower income\n",
    "plt.scatter(data = df_loan, x = 'LoanOriginalAmount', y = 'StatedMonthlyIncome')\n",
    "plt.title('Relation Between Loan Amount and Borrower Income')\n",
    "plt.xlabel('Loan Amount')\n",
    "plt.ylabel('Monthly Income');"
   ]
  },
  {
   "cell_type": "markdown",
   "metadata": {},
   "source": [
    "> The visualization showing overplotting where the high amount of overlap in points makes it difficult to see the actual relationship between the plotted variables."
   ]
  },
  {
   "cell_type": "code",
   "execution_count": 28,
   "metadata": {},
   "outputs": [
    {
     "data": {
      "image/png": "[encoded data removed]",
      "text/plain": [
       "<Figure size 1080x720 with 1 Axes>"
      ]
     },
     "metadata": {},
     "output_type": "display_data"
    }
   ],
   "source": [
    "# scale? \n",
    "sb.regplot(data = df_loan, x = 'LoanOriginalAmount', y = 'StatedMonthlyIncome', truncate=False, x_jitter=0.3)\n",
    "plt.ylim(0, 0.7)\n",
    "plt.title('Relation Between Loan Amount and Borrower Income')\n",
    "plt.xlabel('Loan Amount')\n",
    "plt.ylabel('Monthly Income (1e5)');"
   ]
  },
  {
   "cell_type": "markdown",
   "metadata": {},
   "source": [
    "> After employ transparency and jitter for previous chart to make the scatter plot more informative. Used jitter to move the position of each point slightly from its true value."
   ]
  },
  {
   "cell_type": "code",
   "execution_count": 29,
   "metadata": {},
   "outputs": [
    {
     "data": {
      "text/html": [
       "<div>\n",
       "<style scoped>\n",
       "    .dataframe tbody tr th:only-of-type {\n",
       "        vertical-align: middle;\n",
       "    }\n",
       "\n",
       "    .dataframe tbody tr th {\n",
       "        vertical-align: top;\n",
       "    }\n",
       "\n",
       "    .dataframe thead th {\n",
       "        text-align: right;\n",
       "    }\n",
       "</style>\n",
       "<table border=\"1\" class=\"dataframe\">\n",
       "  <thead>\n",
       "    <tr style=\"text-align: right;\">\n",
       "      <th></th>\n",
       "      <th>ListingNumber</th>\n",
       "      <th>Term</th>\n",
       "      <th>ListingCategory</th>\n",
       "      <th>EmploymentStatusDuration</th>\n",
       "      <th>IsBorrowerHomeowner</th>\n",
       "      <th>IncomeVerifiable</th>\n",
       "      <th>StatedMonthlyIncome</th>\n",
       "      <th>LoanOriginalAmount</th>\n",
       "    </tr>\n",
       "  </thead>\n",
       "  <tbody>\n",
       "    <tr>\n",
       "      <th>ListingNumber</th>\n",
       "      <td>1.000000</td>\n",
       "      <td>0.320191</td>\n",
       "      <td>0.128971</td>\n",
       "      <td>0.157983</td>\n",
       "      <td>0.077888</td>\n",
       "      <td>-0.023370</td>\n",
       "      <td>0.076209</td>\n",
       "      <td>0.339750</td>\n",
       "    </tr>\n",
       "    <tr>\n",
       "      <th>Term</th>\n",
       "      <td>0.320191</td>\n",
       "      <td>1.000000</td>\n",
       "      <td>0.005479</td>\n",
       "      <td>0.083015</td>\n",
       "      <td>0.085354</td>\n",
       "      <td>0.040477</td>\n",
       "      <td>0.028531</td>\n",
       "      <td>0.339283</td>\n",
       "    </tr>\n",
       "    <tr>\n",
       "      <th>ListingCategory</th>\n",
       "      <td>0.128971</td>\n",
       "      <td>0.005479</td>\n",
       "      <td>1.000000</td>\n",
       "      <td>-0.004853</td>\n",
       "      <td>-0.037918</td>\n",
       "      <td>-0.044109</td>\n",
       "      <td>0.001372</td>\n",
       "      <td>-0.127143</td>\n",
       "    </tr>\n",
       "    <tr>\n",
       "      <th>EmploymentStatusDuration</th>\n",
       "      <td>0.157983</td>\n",
       "      <td>0.083015</td>\n",
       "      <td>-0.004853</td>\n",
       "      <td>1.000000</td>\n",
       "      <td>0.171195</td>\n",
       "      <td>0.029930</td>\n",
       "      <td>0.069894</td>\n",
       "      <td>0.098219</td>\n",
       "    </tr>\n",
       "    <tr>\n",
       "      <th>IsBorrowerHomeowner</th>\n",
       "      <td>0.077888</td>\n",
       "      <td>0.085354</td>\n",
       "      <td>-0.037918</td>\n",
       "      <td>0.171195</td>\n",
       "      <td>1.000000</td>\n",
       "      <td>0.064165</td>\n",
       "      <td>0.140131</td>\n",
       "      <td>0.206859</td>\n",
       "    </tr>\n",
       "    <tr>\n",
       "      <th>IncomeVerifiable</th>\n",
       "      <td>-0.023370</td>\n",
       "      <td>0.040477</td>\n",
       "      <td>-0.044109</td>\n",
       "      <td>0.029930</td>\n",
       "      <td>0.064165</td>\n",
       "      <td>1.000000</td>\n",
       "      <td>0.022978</td>\n",
       "      <td>0.056994</td>\n",
       "    </tr>\n",
       "    <tr>\n",
       "      <th>StatedMonthlyIncome</th>\n",
       "      <td>0.076209</td>\n",
       "      <td>0.028531</td>\n",
       "      <td>0.001372</td>\n",
       "      <td>0.069894</td>\n",
       "      <td>0.140131</td>\n",
       "      <td>0.022978</td>\n",
       "      <td>1.000000</td>\n",
       "      <td>0.200627</td>\n",
       "    </tr>\n",
       "    <tr>\n",
       "      <th>LoanOriginalAmount</th>\n",
       "      <td>0.339750</td>\n",
       "      <td>0.339283</td>\n",
       "      <td>-0.127143</td>\n",
       "      <td>0.098219</td>\n",
       "      <td>0.206859</td>\n",
       "      <td>0.056994</td>\n",
       "      <td>0.200627</td>\n",
       "      <td>1.000000</td>\n",
       "    </tr>\n",
       "  </tbody>\n",
       "</table>\n",
       "</div>"
      ],
      "text/plain": [
       "                          ListingNumber      Term  ListingCategory  \\\n",
       "ListingNumber                  1.000000  0.320191         0.128971   \n",
       "Term                           0.320191  1.000000         0.005479   \n",
       "ListingCategory                0.128971  0.005479         1.000000   \n",
       "EmploymentStatusDuration       0.157983  0.083015        -0.004853   \n",
       "IsBorrowerHomeowner            0.077888  0.085354        -0.037918   \n",
       "IncomeVerifiable              -0.023370  0.040477        -0.044109   \n",
       "StatedMonthlyIncome            0.076209  0.028531         0.001372   \n",
       "LoanOriginalAmount             0.339750  0.339283        -0.127143   \n",
       "\n",
       "                          EmploymentStatusDuration  IsBorrowerHomeowner  \\\n",
       "ListingNumber                             0.157983             0.077888   \n",
       "Term                                      0.083015             0.085354   \n",
       "ListingCategory                          -0.004853            -0.037918   \n",
       "EmploymentStatusDuration                  1.000000             0.171195   \n",
       "IsBorrowerHomeowner                       0.171195             1.000000   \n",
       "IncomeVerifiable                          0.029930             0.064165   \n",
       "StatedMonthlyIncome                       0.069894             0.140131   \n",
       "LoanOriginalAmount                        0.098219             0.206859   \n",
       "\n",
       "                          IncomeVerifiable  StatedMonthlyIncome  \\\n",
       "ListingNumber                    -0.023370             0.076209   \n",
       "Term                              0.040477             0.028531   \n",
       "ListingCategory                  -0.044109             0.001372   \n",
       "EmploymentStatusDuration          0.029930             0.069894   \n",
       "IsBorrowerHomeowner               0.064165             0.140131   \n",
       "IncomeVerifiable                  1.000000             0.022978   \n",
       "StatedMonthlyIncome               0.022978             1.000000   \n",
       "LoanOriginalAmount                0.056994             0.200627   \n",
       "\n",
       "                          LoanOriginalAmount  \n",
       "ListingNumber                       0.339750  \n",
       "Term                                0.339283  \n",
       "ListingCategory                    -0.127143  \n",
       "EmploymentStatusDuration            0.098219  \n",
       "IsBorrowerHomeowner                 0.206859  \n",
       "IncomeVerifiable                    0.056994  \n",
       "StatedMonthlyIncome                 0.200627  \n",
       "LoanOriginalAmount                  1.000000  "
      ]
     },
     "execution_count": 29,
     "metadata": {},
     "output_type": "execute_result"
    }
   ],
   "source": [
    "df_loan.corr()"
   ]
  },
  {
   "cell_type": "markdown",
   "metadata": {},
   "source": [
    "> Regarding to the correlation coefficient between loan amount and monthly income which is equal to 0.2, there is positive and weak relationship."
   ]
  },
  {
   "cell_type": "code",
   "execution_count": 30,
   "metadata": {},
   "outputs": [
    {
     "data": {
      "text/plain": [
       "36536"
      ]
     },
     "execution_count": 30,
     "metadata": {},
     "output_type": "execute_result"
    }
   ],
   "source": [
    "# number of borrowers they have loan duration is more than their employment duration\n",
    "len(df_loan[df_loan.Term > df_loan.EmploymentStatusDuration]) "
   ]
  },
  {
   "cell_type": "code",
   "execution_count": 31,
   "metadata": {},
   "outputs": [
    {
     "data": {
      "image/png": "[encoded data removed]",
      "text/plain": [
       "<Figure size 1080x720 with 1 Axes>"
      ]
     },
     "metadata": {},
     "output_type": "display_data"
    }
   ],
   "source": [
    "# make loan status ordered\n",
    "loan_status = ['Completed', 'Current', 'Defaulted', 'FinalPaymentInProgress', 'Chargedoff', 'Cancelled']\n",
    "lstatus = pd.api.types.CategoricalDtype(ordered=True, categories=loan_status)\n",
    "\n",
    "# taking the borrowers they have loan duration more than their employment duration \n",
    "emp = df_loan.loc[(df_loan.EmploymentStatusDuration < df_loan.Term),['EmploymentStatusDuration', 'Term', 'LoanStatus']].copy()\n",
    "# the rest loan months after employment contract ended = the loan months - the rest months in employment\n",
    "emp['EmploymentRest'] = emp['Term'] - emp['EmploymentStatusDuration']\n",
    "emp['Lstatus'] = df_loan['LoanStatus'].astype(lstatus);\n",
    "\n",
    "\n",
    "# relation between the employment contract duration < loan duration .. Is affect on loan status?\n",
    "sb.violinplot(data= emp, x='Lstatus', y= 'EmploymentRest')\n",
    "plt.title('Relation Between Loan Status and Rest Monthly Payment')\n",
    "plt.xlabel('Loan Status')\n",
    "plt.ylabel('Rest Monthly Payment');"
   ]
  },
  {
   "cell_type": "markdown",
   "metadata": {},
   "source": [
    "> Most of loan status either completed, current or in final payment progress, that's safe. There is rare to convert to cancelled status."
   ]
  },
  {
   "cell_type": "markdown",
   "metadata": {},
   "source": [
    "**Talk about some of the relationships you observed in this part of the investigation. How did the feature(s) of interest vary with other features in the dataset?** <br>\n",
    "The relation between loan amount and monthly income paymemnt is weak! that lead me to allowing any borrower to make any loan amount regardless income, if qualify other features. I thought that was a stronge relation between them, if the loan amount was a big that's mean the monthly payment also more. \n",
    "\n",
    "**Did you observe any interesting relationships between the other features (not the main feature(s) of interest)?** <br>\n",
    "There are amount number of borrowers (36536) they have loan duration is more than their employment duration, they may causing kind of risk. Surely, there is should be other features have guarntees to relieve from this risk."
   ]
  },
  {
   "cell_type": "markdown",
   "metadata": {},
   "source": [
    "<a id='multi'></a>\n",
    "## Multivariate Exploration"
   ]
  },
  {
   "cell_type": "markdown",
   "metadata": {},
   "source": [
    "The section contains creating effective multivariate exploration for dataset."
   ]
  },
  {
   "cell_type": "code",
   "execution_count": 32,
   "metadata": {},
   "outputs": [
    {
     "data": {
      "image/png": "[encoded data removed]",
      "text/plain": [
       "<Figure size 900x540 with 15 Axes>"
      ]
     },
     "metadata": {},
     "output_type": "display_data"
    }
   ],
   "source": [
    "# take the data with income range\n",
    "income_range = df_loan.loc[df_loan['IncomeRange'].isin(['$1-24,999', '$25,000-49,999', '$50,000-74,999','$75,000-99,999','$100,000+'])].copy()\n",
    "\n",
    "# relation between income range and the payment months of loan\n",
    "g = sb.FacetGrid(data = income_range, col = 'IncomeRange', row = 'Term', height = 2.5,\n",
    "                margin_titles = True)\n",
    "g.map(plt.scatter, 'IncomeRange', 'Term');"
   ]
  },
  {
   "cell_type": "code",
   "execution_count": 33,
   "metadata": {},
   "outputs": [
    {
     "data": {
      "text/html": [
       "<div>\n",
       "<style scoped>\n",
       "    .dataframe tbody tr th:only-of-type {\n",
       "        vertical-align: middle;\n",
       "    }\n",
       "\n",
       "    .dataframe tbody tr th {\n",
       "        vertical-align: top;\n",
       "    }\n",
       "\n",
       "    .dataframe thead th {\n",
       "        text-align: right;\n",
       "    }\n",
       "</style>\n",
       "<table border=\"1\" class=\"dataframe\">\n",
       "  <thead>\n",
       "    <tr style=\"text-align: right;\">\n",
       "      <th></th>\n",
       "      <th>OnTimeProsperPayments</th>\n",
       "      <th>ProsperPaymentsLessThanOneMonthLate</th>\n",
       "      <th>ProsperPaymentsOneMonthPlusLate</th>\n",
       "    </tr>\n",
       "    <tr>\n",
       "      <th>TotalProsperLoans</th>\n",
       "      <th></th>\n",
       "      <th></th>\n",
       "      <th></th>\n",
       "    </tr>\n",
       "  </thead>\n",
       "  <tbody>\n",
       "    <tr>\n",
       "      <th>0.0</th>\n",
       "      <td>0.0</td>\n",
       "      <td>0.0</td>\n",
       "      <td>0.0</td>\n",
       "    </tr>\n",
       "    <tr>\n",
       "      <th>1.0</th>\n",
       "      <td>219842.0</td>\n",
       "      <td>6771.0</td>\n",
       "      <td>542.0</td>\n",
       "    </tr>\n",
       "    <tr>\n",
       "      <th>2.0</th>\n",
       "      <td>156859.0</td>\n",
       "      <td>4049.0</td>\n",
       "      <td>318.0</td>\n",
       "    </tr>\n",
       "    <tr>\n",
       "      <th>3.0</th>\n",
       "      <td>75895.0</td>\n",
       "      <td>1813.0</td>\n",
       "      <td>147.0</td>\n",
       "    </tr>\n",
       "    <tr>\n",
       "      <th>4.0</th>\n",
       "      <td>26747.0</td>\n",
       "      <td>624.0</td>\n",
       "      <td>40.0</td>\n",
       "    </tr>\n",
       "    <tr>\n",
       "      <th>5.0</th>\n",
       "      <td>6731.0</td>\n",
       "      <td>153.0</td>\n",
       "      <td>4.0</td>\n",
       "    </tr>\n",
       "    <tr>\n",
       "      <th>6.0</th>\n",
       "      <td>1671.0</td>\n",
       "      <td>36.0</td>\n",
       "      <td>6.0</td>\n",
       "    </tr>\n",
       "    <tr>\n",
       "      <th>7.0</th>\n",
       "      <td>422.0</td>\n",
       "      <td>25.0</td>\n",
       "      <td>4.0</td>\n",
       "    </tr>\n",
       "    <tr>\n",
       "      <th>8.0</th>\n",
       "      <td>37.0</td>\n",
       "      <td>1.0</td>\n",
       "      <td>2.0</td>\n",
       "    </tr>\n",
       "  </tbody>\n",
       "</table>\n",
       "</div>"
      ],
      "text/plain": [
       "                   OnTimeProsperPayments  ProsperPaymentsLessThanOneMonthLate  \\\n",
       "TotalProsperLoans                                                               \n",
       "0.0                                  0.0                                  0.0   \n",
       "1.0                             219842.0                               6771.0   \n",
       "2.0                             156859.0                               4049.0   \n",
       "3.0                              75895.0                               1813.0   \n",
       "4.0                              26747.0                                624.0   \n",
       "5.0                               6731.0                                153.0   \n",
       "6.0                               1671.0                                 36.0   \n",
       "7.0                                422.0                                 25.0   \n",
       "8.0                                 37.0                                  1.0   \n",
       "\n",
       "                   ProsperPaymentsOneMonthPlusLate  \n",
       "TotalProsperLoans                                   \n",
       "0.0                                            0.0  \n",
       "1.0                                          542.0  \n",
       "2.0                                          318.0  \n",
       "3.0                                          147.0  \n",
       "4.0                                           40.0  \n",
       "5.0                                            4.0  \n",
       "6.0                                            6.0  \n",
       "7.0                                            4.0  \n",
       "8.0                                            2.0  "
      ]
     },
     "execution_count": 33,
     "metadata": {},
     "output_type": "execute_result"
    }
   ],
   "source": [
    "# Are the prospers loans make borrower more commitment to pay on time without late?\n",
    "# let's show if there a relation..\n",
    "df_prosloan.groupby('TotalProsperLoans')[['OnTimeProsperPayments','ProsperPaymentsLessThanOneMonthLate','ProsperPaymentsOneMonthPlusLate']].sum()"
   ]
  },
  {
   "cell_type": "code",
   "execution_count": 34,
   "metadata": {},
   "outputs": [
    {
     "data": {
      "text/html": [
       "<div>\n",
       "<style scoped>\n",
       "    .dataframe tbody tr th:only-of-type {\n",
       "        vertical-align: middle;\n",
       "    }\n",
       "\n",
       "    .dataframe tbody tr th {\n",
       "        vertical-align: top;\n",
       "    }\n",
       "\n",
       "    .dataframe thead th {\n",
       "        text-align: right;\n",
       "    }\n",
       "</style>\n",
       "<table border=\"1\" class=\"dataframe\">\n",
       "  <thead>\n",
       "    <tr style=\"text-align: right;\">\n",
       "      <th></th>\n",
       "      <th>#ofLoans</th>\n",
       "      <th>Total</th>\n",
       "      <th>PaymentStatus</th>\n",
       "    </tr>\n",
       "  </thead>\n",
       "  <tbody>\n",
       "    <tr>\n",
       "      <th>0</th>\n",
       "      <td>1</td>\n",
       "      <td>219842</td>\n",
       "      <td>on time</td>\n",
       "    </tr>\n",
       "    <tr>\n",
       "      <th>1</th>\n",
       "      <td>1</td>\n",
       "      <td>156859</td>\n",
       "      <td>on time</td>\n",
       "    </tr>\n",
       "    <tr>\n",
       "      <th>2</th>\n",
       "      <td>1</td>\n",
       "      <td>75895</td>\n",
       "      <td>on time</td>\n",
       "    </tr>\n",
       "    <tr>\n",
       "      <th>3</th>\n",
       "      <td>2</td>\n",
       "      <td>26747</td>\n",
       "      <td>on time</td>\n",
       "    </tr>\n",
       "    <tr>\n",
       "      <th>4</th>\n",
       "      <td>2</td>\n",
       "      <td>6731</td>\n",
       "      <td>on time</td>\n",
       "    </tr>\n",
       "  </tbody>\n",
       "</table>\n",
       "</div>"
      ],
      "text/plain": [
       "   #ofLoans   Total PaymentStatus\n",
       "0         1  219842       on time\n",
       "1         1  156859       on time\n",
       "2         1   75895       on time\n",
       "3         2   26747       on time\n",
       "4         2    6731       on time"
      ]
     },
     "execution_count": 34,
     "metadata": {},
     "output_type": "execute_result"
    }
   ],
   "source": [
    "# re-arrange the data\n",
    "pros_loan = {'#ofLoans': [1,1,1,2,2,2,3,3,3,4,4,4,5,5,5,6,6,6,7,7,7,8,8,8],\n",
    "                              'Total': [219842, 156859, 75895,  26747,6731, 1671, 422, 37, 6771, 4049, 1813, 624, 153, 36, 25, 1, 542, 318, 147, 40, 4, 6, 4, 2],\n",
    "                             'PaymentStatus': ['on time', 'on time', 'on time', 'on time', 'on time', 'on time', 'on time', 'on time',\n",
    "                                       'less month late', 'less month late','less month late','less month late','less month late','less month late','less month late','less month late',\n",
    "                                       'plus month late', 'plus month late','plus month late','plus month late','plus month late','plus month late','plus month late','plus month late']}\n",
    "total_pros_loan = pd.DataFrame(pros_loan)\n",
    "total_pros_loan.head()"
   ]
  },
  {
   "cell_type": "code",
   "execution_count": 35,
   "metadata": {},
   "outputs": [
    {
     "data": {
      "image/png": "[encoded data removed]",
      "text/plain": [
       "<Figure size 834.35x720 with 1 Axes>"
      ]
     },
     "metadata": {},
     "output_type": "display_data"
    }
   ],
   "source": [
    "# display the relation between number of prosper loans vs. (payment on time, late < month and late > month).. \n",
    "sb.catplot(data=total_pros_loan, x='#ofLoans', y='Total', hue='PaymentStatus', height=10);\n",
    "plt.title('Relation Between Total Prosper Loans and Payment Status')\n",
    "plt.xlabel('Total Prosper Loans')\n",
    "plt.ylabel('Total Status Frequencies');"
   ]
  },
  {
   "cell_type": "markdown",
   "metadata": {},
   "source": [
    "> The plot representing while the prosper loans was a lot that will lead to late occurring in payment."
   ]
  },
  {
   "cell_type": "markdown",
   "metadata": {},
   "source": [
    "**Were there any interesting or surprising interactions between features?** <br>\n",
    "The surprise is for each borrowe other loan, the payment status is tend to late within a month and plus a month ,respectivly. I thought the commitment level was will greater not lower!\n",
    "May the graet numbers of loans is affect on borrower's income and cuase some financial hardship."
   ]
  },
  {
   "cell_type": "markdown",
   "metadata": {},
   "source": [
    "<a id='con'></a>\n",
    "## Conclusion"
   ]
  },
  {
   "cell_type": "markdown",
   "metadata": {},
   "source": [
    "The conclusion of the investigation clarifies that the most exist loans status are current, and completed. Regarding loans categories, loans are for debt consolidation, auto, home improvement, respectively. For borrowers state, CA is got the most loans proportion by 13% followed by TX, FL and NY equally by 6%. For the borrower's occupation, professional has got the most numbers of loans followed by computer programmer and executive. <br>\n",
    "Also, the conclusion that there is 50.5% of borrowers they owner home while there is 49.5% of them they didn't own. Additionally, the range of most loans amount is between 5000 and 15000. <br>\n",
    "Also, there is a positive and weak relationship between the loan amount and the borrower income.  Finally, if the prosper loans was a lot, that will lead to late occurring in payment, either in less than a month or plus a month."
   ]
  },
  {
   "cell_type": "code",
   "execution_count": null,
   "metadata": {},
   "outputs": [],
   "source": []
  }
 ],
 "metadata": {
  "kernelspec": {
   "display_name": "Python 3",
   "language": "python",
   "name": "python3"
  },
  "language_info": {
   "codemirror_mode": {
    "name": "ipython",
    "version": 3
   },
   "file_extension": ".py",
   "mimetype": "text/x-python",
   "name": "python",
   "nbconvert_exporter": "python",
   "pygments_lexer": "ipython3",
   "version": "3.8.5"
  }
 },
 "nbformat": 4,
 "nbformat_minor": 4
}
